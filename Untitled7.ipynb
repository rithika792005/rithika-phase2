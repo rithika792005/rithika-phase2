{
  "nbformat": 4,
  "nbformat_minor": 0,
  "metadata": {
    "colab": {
      "provenance": [],
      "include_colab_link": true
    },
    "kernelspec": {
      "name": "python3",
      "display_name": "Python 3"
    },
    "language_info": {
      "name": "python"
    }
  },
  "cells": [
    {
      "cell_type": "markdown",
      "metadata": {
        "id": "view-in-github",
        "colab_type": "text"
      },
      "source": [
        "<a href=\"https://colab.research.google.com/github/rithika792005/rithika-phase2/blob/main/Untitled7.ipynb\" target=\"_parent\"><img src=\"https://colab.research.google.com/assets/colab-badge.svg\" alt=\"Open In Colab\"/></a>"
      ]
    },
    {
      "cell_type": "code",
      "execution_count": null,
      "metadata": {
        "id": "vlx6skkujTS3"
      },
      "outputs": [],
      "source": [
        "# Import Required Libraries\n",
        "import pandas as pd\n",
        "import numpy as np\n",
        "import matplotlib.pyplot as plt\n",
        "import seaborn as sns"
      ]
    },
    {
      "cell_type": "code",
      "source": [
        "# Load the dataset\n",
        "df = pd.read_csv(\"movie_recommendation_dataset.csv\")\n",
        "# Step 1: Inspect the first few rows of the dataset\n",
        "print(df.head())\n",
        "\n",
        "# Step 2: Dataset Information (check data types and null values)\n",
        "print(\"\\nDataset Info:\")\n",
        "print(df.info())"
      ],
      "metadata": {
        "colab": {
          "base_uri": "https://localhost:8080/"
        },
        "id": "NhGd3z2sjf0b",
        "outputId": "89c16282-8f75-4364-86da-f998ad4aa86a"
      },
      "execution_count": null,
      "outputs": [
        {
          "output_type": "stream",
          "name": "stdout",
          "text": [
            "   user_id  movie_id movie_title    genre  rating\n",
            "0        1       101   Inception   Sci-Fi       5\n",
            "1        1       102     Titanic  Romance       4\n",
            "2        2       101   Inception   Sci-Fi       4\n",
            "3        2       103    Avengers   Action       5\n",
            "4        3       102     Titanic  Romance       3\n",
            "\n",
            "Dataset Info:\n",
            "<class 'pandas.core.frame.DataFrame'>\n",
            "RangeIndex: 8 entries, 0 to 7\n",
            "Data columns (total 5 columns):\n",
            " #   Column       Non-Null Count  Dtype \n",
            "---  ------       --------------  ----- \n",
            " 0   user_id      8 non-null      int64 \n",
            " 1   movie_id     8 non-null      int64 \n",
            " 2   movie_title  8 non-null      object\n",
            " 3   genre        8 non-null      object\n",
            " 4   rating       8 non-null      int64 \n",
            "dtypes: int64(3), object(2)\n",
            "memory usage: 452.0+ bytes\n",
            "None\n"
          ]
        }
      ]
    },
    {
      "cell_type": "code",
      "source": [
        "# Check for missing values\n",
        "print(\"\\nMissing Values:\\n\", df.isnull().sum())\n",
        "\n",
        "# Check for duplicate rows\n",
        "print(\"\\nDuplicate Rows:\", df.duplicated().sum())\n"
      ],
      "metadata": {
        "colab": {
          "base_uri": "https://localhost:8080/"
        },
        "id": "tlLMzQrrkFTt",
        "outputId": "7eab6cf5-853f-4610-d206-0aa2de4591c0"
      },
      "execution_count": null,
      "outputs": [
        {
          "output_type": "stream",
          "name": "stdout",
          "text": [
            "\n",
            "Missing Values:\n",
            " user_id        0\n",
            "movie_id       0\n",
            "movie_title    0\n",
            "genre          0\n",
            "rating         0\n",
            "dtype: int64\n",
            "\n",
            "Duplicate Rows: 0\n"
          ]
        }
      ]
    },
    {
      "cell_type": "code",
      "source": [
        "# Step 3: Data Cleaning\n",
        "# Drop duplicate rows\n",
        "df = df.drop_duplicates()\n",
        "# Handle missing values (example: filling missing ratings with the mean rating)\n",
        "df['rating'].fillna(df['rating'].mean(), inplace=True)\n",
        "# Convert 'release_date' column to datetime format (if applicable)\n",
        "# Check if 'release_date' column exists before converting\n",
        "if 'release_date' in df.columns:\n",
        "    df['release_date'] = pd.to_datetime(df['release_date'], errors='coerce')\n",
        "else:\n",
        "    print(\"Column 'release_date' not found in the DataFrame.\")\n",
        "    print(\"\\nDataset after cleaning:\")\n",
        "print(df.head())"
      ],
      "metadata": {
        "colab": {
          "base_uri": "https://localhost:8080/"
        },
        "id": "bKrnEhrvkOWf",
        "outputId": "2c21d1b5-8077-4525-98cb-cd2664b3d584"
      },
      "execution_count": null,
      "outputs": [
        {
          "output_type": "stream",
          "name": "stdout",
          "text": [
            "Column 'release_date' not found in the DataFrame.\n",
            "\n",
            "Dataset after cleaning:\n",
            "   user_id  movie_id movie_title    genre  rating\n",
            "0        1       101   Inception   Sci-Fi       5\n",
            "1        1       102     Titanic  Romance       4\n",
            "2        2       101   Inception   Sci-Fi       4\n",
            "3        2       103    Avengers   Action       5\n",
            "4        3       102     Titanic  Romance       3\n"
          ]
        },
        {
          "output_type": "stream",
          "name": "stderr",
          "text": [
            "<ipython-input-6-0f1caacbde95>:5: FutureWarning: A value is trying to be set on a copy of a DataFrame or Series through chained assignment using an inplace method.\n",
            "The behavior will change in pandas 3.0. This inplace method will never work because the intermediate object on which we are setting values always behaves as a copy.\n",
            "\n",
            "For example, when doing 'df[col].method(value, inplace=True)', try using 'df.method({col: value}, inplace=True)' or df[col] = df[col].method(value) instead, to perform the operation inplace on the original object.\n",
            "\n",
            "\n",
            "  df['rating'].fillna(df['rating'].mean(), inplace=True)\n"
          ]
        }
      ]
    },
    {
      "cell_type": "code",
      "source": [
        "plt.figure(figsize=(8, 6))\n",
        "sns.histplot(df['rating'], bins=20, kde=True, color='blue')\n",
        "plt.title('Distribution of Movie Ratings')\n",
        "plt.xlabel('Rating')\n",
        "plt.ylabel('Frequency')\n",
        "plt.show()"
      ],
      "metadata": {
        "colab": {
          "base_uri": "https://localhost:8080/",
          "height": 564
        },
        "id": "tyaeOg8Sk14u",
        "outputId": "5df521df-1a33-4e90-a462-cf68b34c963c"
      },
      "execution_count": null,
      "outputs": [
        {
          "output_type": "display_data",
          "data": {
            "text/plain": [
              "<Figure size 800x600 with 1 Axes>"
            ],
            "image/png": "[encoded data removed]"
          },
          "metadata": {}
        }
      ]
    },
    {
      "cell_type": "code",
      "source": [
        "# Calculate the top 10 most rated movies\n",
        "# Assuming 'movie_title' column contains the movie titles\n",
        "top_rated_movies = df['movie_title'].value_counts().head(10)\n",
        "\n",
        "plt.figure(figsize=(10, 6))\n",
        "top_rated_movies.plot(kind='barh', color='green')\n",
        "plt.title('Top 10 Most Rated Movies')\n",
        "plt.xlabel('Number of Ratings')\n",
        "plt.ylabel('Movie Title')\n",
        "plt.show()"
      ],
      "metadata": {
        "colab": {
          "base_uri": "https://localhost:8080/",
          "height": 564
        },
        "id": "LzaMbzUqk91e",
        "outputId": "99e67e7d-bfa9-4da9-9ad7-3e0946f788f4"
      },
      "execution_count": null,
      "outputs": [
        {
          "output_type": "display_data",
          "data": {
            "text/plain": [
              "<Figure size 1000x600 with 1 Axes>"
            ],
            "image/png": "[encoded data removed]"
          },
          "metadata": {}
        }
      ]
    },
    {
      "cell_type": "code",
      "source": [
        "# If your dataset contains genres as one-hot encoded columns (adjust as needed)\n",
        "genre_columns = df.columns[6:]  # Adjust depending on your column names for genres\n",
        "genre_counts = df[genre_columns].sum().sort_values(ascending=False)"
      ],
      "metadata": {
        "id": "AWeVsoYclEwh"
      },
      "execution_count": null,
      "outputs": []
    },
    {
      "cell_type": "code",
      "source": [
        "import pandas as pd\n",
        "import matplotlib.pyplot as plt\n",
        "import seaborn as sns\n",
        "\n",
        "# ... (other parts of your code) ...\n",
        "\n",
        "# Genre Distribution Analysis (Revised)\n",
        "if 'genres' in df.columns:\n",
        "    # Assuming 'genres' column contains a list of genres separated by '|'\n",
        "    all_genres = []\n",
        "    for index in df.index:\n",
        "        genres_list = str(df.loc[index, 'genres']).split('|')  # Split genres\n",
        "        for genre in genres_list:\n",
        "            if genre != '' and genre not in all_genres:  # Avoid empty or duplicate entries\n",
        "                all_genres.append(genre)\n",
        "    # Count genre occurrences\n",
        "    genre_counts = {genre: 0 for genre in all_genres}  # Initialize counts\n",
        "    for index in df.index:\n",
        "        genres_list = str(df.loc[index, 'genres']).split('|')  # Split genres\n",
        "        for genre in genres_list:\n",
        "            if genre != '' and genre in all_genres:  # Only count valid entries\n",
        "                genre_counts[genre] += 1\n",
        "    # Sort genres by counts\n",
        "    genre_counts_sorted = dict(sorted(genre_counts.items(), key=lambda item: item[1], reverse=True))\n",
        "    # Plot genre distribution\n",
        "    plt.figure(figsize=(12, 6))  # Adjust figure size\n",
        "    sns.barplot(x=list(genre_counts_sorted.keys()), y=list(genre_counts_sorted.values()), color='purple')\n",
        "    plt.title('Genre Distribution')\n",
        "    plt.xlabel('Genres')\n",
        "    plt.ylabel('Frequency')\n",
        "    plt.xticks(rotation=45, ha='right')\n",
        "    plt.tight_layout()\n",
        "    plt.show()\n"
      ],
      "metadata": {
        "id": "LHIbed85lKHB"
      },
      "execution_count": null,
      "outputs": []
    },
    {
      "cell_type": "code",
      "source": [
        "# Phase 1: Import Libraries\n",
        "import pandas as pd\n",
        "import matplotlib.pyplot as plt\n",
        "import seaborn as sns\n",
        "\n",
        "# Load dataset\n",
        "df = pd.read_csv(\"movie_recommendation_dataset.csv\")\n",
        "\n",
        "# Clean and prepare\n",
        "df = df.drop_duplicates()\n",
        "# Check if 'release_date' column exists before converting\n",
        "if 'release_date' in df.columns:\n",
        "    df['release_date'] = pd.to_datetime(df['release_date'], errors='coerce')\n",
        "else:\n",
        "    print(\"Column 'release_date' not found in the DataFrame. Skipping conversion.\")\n",
        "\n",
        "# Check basic info (optional)\n",
        "print(df.info())\n",
        "\n",
        "# Phase 2: EDA – Distribution of Ratings per User\n",
        "# Step 1: Count number of ratings each user has given\n",
        "user_ratings_count = df['user_id'].value_counts()\n",
        "\n",
        "# Step 2: Plot distribution of ratings per user\n",
        "plt.figure(figsize=(8, 6))\n",
        "sns.histplot(user_ratings_count, bins=30, kde=True, color='orange')\n",
        "plt.title('Distribution of Ratings Per User')\n",
        "plt.xlabel('Number of Ratings per User')\n",
        "plt.ylabel('Frequency')\n",
        "plt.show()"
      ],
      "metadata": {
        "colab": {
          "base_uri": "https://localhost:8080/",
          "height": 807
        },
        "id": "K3-ZmTdblO0g",
        "outputId": "dccf6ff8-cf05-4178-b4f2-f83c3096d028"
      },
      "execution_count": null,
      "outputs": [
        {
          "output_type": "stream",
          "name": "stdout",
          "text": [
            "Column 'release_date' not found in the DataFrame. Skipping conversion.\n",
            "<class 'pandas.core.frame.DataFrame'>\n",
            "RangeIndex: 8 entries, 0 to 7\n",
            "Data columns (total 5 columns):\n",
            " #   Column       Non-Null Count  Dtype \n",
            "---  ------       --------------  ----- \n",
            " 0   user_id      8 non-null      int64 \n",
            " 1   movie_id     8 non-null      int64 \n",
            " 2   movie_title  8 non-null      object\n",
            " 3   genre        8 non-null      object\n",
            " 4   rating       8 non-null      int64 \n",
            "dtypes: int64(3), object(2)\n",
            "memory usage: 452.0+ bytes\n",
            "None\n"
          ]
        },
        {
          "output_type": "display_data",
          "data": {
            "text/plain": [
              "<Figure size 800x600 with 1 Axes>"
            ],
            "image/png": "[encoded data removed]"
          },
          "metadata": {}
        }
      ]
    },
    {
      "cell_type": "code",
      "source": [
        "# Correlation Heatmap (Optional)\n",
        "# If you have additional numerical columns, such as movie budgets, durations, etc.\n",
        "# Select only numerical features for correlation analysis\n",
        "numerical_df = df.select_dtypes(include=['number'])  # Select columns with numeric types\n",
        "\n",
        "# Calculate the correlation matrix using the numerical features only\n",
        "correlation_matrix = numerical_df.corr()"
      ],
      "metadata": {
        "id": "Hvn9LXYNlY4P"
      },
      "execution_count": null,
      "outputs": []
    },
    {
      "cell_type": "code",
      "source": [
        "# Plot the correlation heatmap\n",
        "plt.figure(figsize=(10, 8))\n",
        "sns.heatmap(correlation_matrix, annot=True, cmap='coolwarm', fmt='.2f', linewidths=0.5)\n",
        "plt.title('Correlation Heatmap')\n",
        "plt.show()"
      ],
      "metadata": {
        "colab": {
          "base_uri": "https://localhost:8080/",
          "height": 699
        },
        "id": "_6Xxx7Y1laud",
        "outputId": "f78ce41f-5021-4e90-a5fb-2c6c9f7554af"
      },
      "execution_count": null,
      "outputs": [
        {
          "output_type": "display_data",
          "data": {
            "text/plain": [
              "<Figure size 1000x800 with 2 Axes>"
            ],
            "image/png": "[encoded data removed]"
          },
          "metadata": {}
        }
      ]
    },
    {
      "cell_type": "code",
      "source": [
        "# Create a user-item matrix with users as rows and movies as columns\n",
        "user_item_matrix = df.pivot_table(index='user_id', columns='movie_title', values='rating') # Changed 'title' to 'movie_title'\n",
        "\n",
        "# Fill NaN with 0 (or you can choose to use mean later)\n",
        "user_item_matrix = user_item_matrix.fillna(0)\n",
        "\n",
        "# Preview the matrix\n",
        "user_item_matrix.head()"
      ],
      "metadata": {
        "colab": {
          "base_uri": "https://localhost:8080/",
          "height": 237
        },
        "id": "I4Znr1Xflhes",
        "outputId": "c7a6eae5-8f36-47ba-9205-28ad26f0b951"
      },
      "execution_count": null,
      "outputs": [
        {
          "output_type": "execute_result",
          "data": {
            "text/plain": [
              "movie_title  Avengers  Inception  Interstellar  Joker  Titanic\n",
              "user_id                                                       \n",
              "1                 0.0        5.0           0.0    0.0      4.0\n",
              "2                 5.0        4.0           0.0    0.0      0.0\n",
              "3                 0.0        0.0           5.0    0.0      3.0\n",
              "4                 0.0        0.0           0.0    4.0      0.0\n",
              "5                 0.0        4.0           0.0    0.0      0.0"
            ],
            "text/html": [
              "\n",
              "  <div id=\"df-868c3c01-7cd2-4ae8-a059-949b4ac9632e\" class=\"colab-df-container\">\n",
              "    <div>\n",
              "<style scoped>\n",
              "    .dataframe tbody tr th:only-of-type {\n",
              "        vertical-align: middle;\n",
              "    }\n",
              "\n",
              "    .dataframe tbody tr th {\n",
              "        vertical-align: top;\n",
              "    }\n",
              "\n",
              "    .dataframe thead th {\n",
              "        text-align: right;\n",
              "    }\n",
              "</style>\n",
              "<table border=\"1\" class=\"dataframe\">\n",
              "  <thead>\n",
              "    <tr style=\"text-align: right;\">\n",
              "      <th>movie_title</th>\n",
              "      <th>Avengers</th>\n",
              "      <th>Inception</th>\n",
              "      <th>Interstellar</th>\n",
              "      <th>Joker</th>\n",
              "      <th>Titanic</th>\n",
              "    </tr>\n",
              "    <tr>\n",
              "      <th>user_id</th>\n",
              "      <th></th>\n",
              "      <th></th>\n",
              "      <th></th>\n",
              "      <th></th>\n",
              "      <th></th>\n",
              "    </tr>\n",
              "  </thead>\n",
              "  <tbody>\n",
              "    <tr>\n",
              "      <th>1</th>\n",
              "      <td>0.0</td>\n",
              "      <td>5.0</td>\n",
              "      <td>0.0</td>\n",
              "      <td>0.0</td>\n",
              "      <td>4.0</td>\n",
              "    </tr>\n",
              "    <tr>\n",
              "      <th>2</th>\n",
              "      <td>5.0</td>\n",
              "      <td>4.0</td>\n",
              "      <td>0.0</td>\n",
              "      <td>0.0</td>\n",
              "      <td>0.0</td>\n",
              "    </tr>\n",
              "    <tr>\n",
              "      <th>3</th>\n",
              "      <td>0.0</td>\n",
              "      <td>0.0</td>\n",
              "      <td>5.0</td>\n",
              "      <td>0.0</td>\n",
              "      <td>3.0</td>\n",
              "    </tr>\n",
              "    <tr>\n",
              "      <th>4</th>\n",
              "      <td>0.0</td>\n",
              "      <td>0.0</td>\n",
              "      <td>0.0</td>\n",
              "      <td>4.0</td>\n",
              "      <td>0.0</td>\n",
              "    </tr>\n",
              "    <tr>\n",
              "      <th>5</th>\n",
              "      <td>0.0</td>\n",
              "      <td>4.0</td>\n",
              "      <td>0.0</td>\n",
              "      <td>0.0</td>\n",
              "      <td>0.0</td>\n",
              "    </tr>\n",
              "  </tbody>\n",
              "</table>\n",
              "</div>\n",
              "    <div class=\"colab-df-buttons\">\n",
              "\n",
              "  <div class=\"colab-df-container\">\n",
              "    <button class=\"colab-df-convert\" onclick=\"convertToInteractive('df-868c3c01-7cd2-4ae8-a059-949b4ac9632e')\"\n",
              "            title=\"Convert this dataframe to an interactive table.\"\n",
              "            style=\"display:none;\">\n",
              "\n",
              "  <svg xmlns=\"http://www.w3.org/2000/svg\" height=\"24px\" viewBox=\"0 -960 960 960\">\n",
              "    <path d=\"M120-120v-720h720v720H120Zm60-500h600v-160H180v160Zm220 220h160v-160H400v160Zm0 220h160v-160H400v160ZM180-400h160v-160H180v160Zm440 0h160v-160H620v160ZM180-180h160v-160H180v160Zm440 0h160v-160H620v160Z\"/>\n",
              "  </svg>\n",
              "    </button>\n",
              "\n",
              "  <style>\n",
              "    .colab-df-container {\n",
              "      display:flex;\n",
              "      gap: 12px;\n",
              "    }\n",
              "\n",
              "    .colab-df-convert {\n",
              "      background-color: #E8F0FE;\n",
              "      border: none;\n",
              "      border-radius: 50%;\n",
              "      cursor: pointer;\n",
              "      display: none;\n",
              "      fill: #1967D2;\n",
              "      height: 32px;\n",
              "      padding: 0 0 0 0;\n",
              "      width: 32px;\n",
              "    }\n",
              "\n",
              "    .colab-df-convert:hover {\n",
              "      background-color: #E2EBFA;\n",
              "      box-shadow: 0px 1px 2px rgba(60, 64, 67, 0.3), 0px 1px 3px 1px rgba(60, 64, 67, 0.15);\n",
              "      fill: #174EA6;\n",
              "    }\n",
              "\n",
              "    .colab-df-buttons div {\n",
              "      margin-bottom: 4px;\n",
              "    }\n",
              "\n",
              "    [theme=dark] .colab-df-convert {\n",
              "      background-color: #3B4455;\n",
              "      fill: #D2E3FC;\n",
              "    }\n",
              "\n",
              "    [theme=dark] .colab-df-convert:hover {\n",
              "      background-color: #434B5C;\n",
              "      box-shadow: 0px 1px 3px 1px rgba(0, 0, 0, 0.15);\n",
              "      filter: drop-shadow(0px 1px 2px rgba(0, 0, 0, 0.3));\n",
              "      fill: #FFFFFF;\n",
              "    }\n",
              "  </style>\n",
              "\n",
              "    <script>\n",
              "      const buttonEl =\n",
              "        document.querySelector('#df-868c3c01-7cd2-4ae8-a059-949b4ac9632e button.colab-df-convert');\n",
              "      buttonEl.style.display =\n",
              "        google.colab.kernel.accessAllowed ? 'block' : 'none';\n",
              "\n",
              "      async function convertToInteractive(key) {\n",
              "        const element = document.querySelector('#df-868c3c01-7cd2-4ae8-a059-949b4ac9632e');\n",
              "        const dataTable =\n",
              "          await google.colab.kernel.invokeFunction('convertToInteractive',\n",
              "                                                    [key], {});\n",
              "        if (!dataTable) return;\n",
              "\n",
              "        const docLinkHtml = 'Like what you see? Visit the ' +\n",
              "          '<a target=\"_blank\" href=https://colab.research.google.com/notebooks/data_table.ipynb>data table notebook</a>'\n",
              "          + ' to learn more about interactive tables.';\n",
              "        element.innerHTML = '';\n",
              "        dataTable['output_type'] = 'display_data';\n",
              "        await google.colab.output.renderOutput(dataTable, element);\n",
              "        const docLink = document.createElement('div');\n",
              "        docLink.innerHTML = docLinkHtml;\n",
              "        element.appendChild(docLink);\n",
              "      }\n",
              "    </script>\n",
              "  </div>\n",
              "\n",
              "\n",
              "    <div id=\"df-f6f3ee18-ac2a-4463-9ffc-0c73417dd9d9\">\n",
              "      <button class=\"colab-df-quickchart\" onclick=\"quickchart('df-f6f3ee18-ac2a-4463-9ffc-0c73417dd9d9')\"\n",
              "                title=\"Suggest charts\"\n",
              "                style=\"display:none;\">\n",
              "\n",
              "<svg xmlns=\"http://www.w3.org/2000/svg\" height=\"24px\"viewBox=\"0 0 24 24\"\n",
              "     width=\"24px\">\n",
              "    <g>\n",
              "        <path d=\"M19 3H5c-1.1 0-2 .9-2 2v14c0 1.1.9 2 2 2h14c1.1 0 2-.9 2-2V5c0-1.1-.9-2-2-2zM9 17H7v-7h2v7zm4 0h-2V7h2v10zm4 0h-2v-4h2v4z\"/>\n",
              "    </g>\n",
              "</svg>\n",
              "      </button>\n",
              "\n",
              "<style>\n",
              "  .colab-df-quickchart {\n",
              "      --bg-color: #E8F0FE;\n",
              "      --fill-color: #1967D2;\n",
              "      --hover-bg-color: #E2EBFA;\n",
              "      --hover-fill-color: #174EA6;\n",
              "      --disabled-fill-color: #AAA;\n",
              "      --disabled-bg-color: #DDD;\n",
              "  }\n",
              "\n",
              "  [theme=dark] .colab-df-quickchart {\n",
              "      --bg-color: #3B4455;\n",
              "      --fill-color: #D2E3FC;\n",
              "      --hover-bg-color: #434B5C;\n",
              "      --hover-fill-color: #FFFFFF;\n",
              "      --disabled-bg-color: #3B4455;\n",
              "      --disabled-fill-color: #666;\n",
              "  }\n",
              "\n",
              "  .colab-df-quickchart {\n",
              "    background-color: var(--bg-color);\n",
              "    border: none;\n",
              "    border-radius: 50%;\n",
              "    cursor: pointer;\n",
              "    display: none;\n",
              "    fill: var(--fill-color);\n",
              "    height: 32px;\n",
              "    padding: 0;\n",
              "    width: 32px;\n",
              "  }\n",
              "\n",
              "  .colab-df-quickchart:hover {\n",
              "    background-color: var(--hover-bg-color);\n",
              "    box-shadow: 0 1px 2px rgba(60, 64, 67, 0.3), 0 1px 3px 1px rgba(60, 64, 67, 0.15);\n",
              "    fill: var(--button-hover-fill-color);\n",
              "  }\n",
              "\n",
              "  .colab-df-quickchart-complete:disabled,\n",
              "  .colab-df-quickchart-complete:disabled:hover {\n",
              "    background-color: var(--disabled-bg-color);\n",
              "    fill: var(--disabled-fill-color);\n",
              "    box-shadow: none;\n",
              "  }\n",
              "\n",
              "  .colab-df-spinner {\n",
              "    border: 2px solid var(--fill-color);\n",
              "    border-color: transparent;\n",
              "    border-bottom-color: var(--fill-color);\n",
              "    animation:\n",
              "      spin 1s steps(1) infinite;\n",
              "  }\n",
              "\n",
              "  @keyframes spin {\n",
              "    0% {\n",
              "      border-color: transparent;\n",
              "      border-bottom-color: var(--fill-color);\n",
              "      border-left-color: var(--fill-color);\n",
              "    }\n",
              "    20% {\n",
              "      border-color: transparent;\n",
              "      border-left-color: var(--fill-color);\n",
              "      border-top-color: var(--fill-color);\n",
              "    }\n",
              "    30% {\n",
              "      border-color: transparent;\n",
              "      border-left-color: var(--fill-color);\n",
              "      border-top-color: var(--fill-color);\n",
              "      border-right-color: var(--fill-color);\n",
              "    }\n",
              "    40% {\n",
              "      border-color: transparent;\n",
              "      border-right-color: var(--fill-color);\n",
              "      border-top-color: var(--fill-color);\n",
              "    }\n",
              "    60% {\n",
              "      border-color: transparent;\n",
              "      border-right-color: var(--fill-color);\n",
              "    }\n",
              "    80% {\n",
              "      border-color: transparent;\n",
              "      border-right-color: var(--fill-color);\n",
              "      border-bottom-color: var(--fill-color);\n",
              "    }\n",
              "    90% {\n",
              "      border-color: transparent;\n",
              "      border-bottom-color: var(--fill-color);\n",
              "    }\n",
              "  }\n",
              "</style>\n",
              "\n",
              "      <script>\n",
              "        async function quickchart(key) {\n",
              "          const quickchartButtonEl =\n",
              "            document.querySelector('#' + key + ' button');\n",
              "          quickchartButtonEl.disabled = true;  // To prevent multiple clicks.\n",
              "          quickchartButtonEl.classList.add('colab-df-spinner');\n",
              "          try {\n",
              "            const charts = await google.colab.kernel.invokeFunction(\n",
              "                'suggestCharts', [key], {});\n",
              "          } catch (error) {\n",
              "            console.error('Error during call to suggestCharts:', error);\n",
              "          }\n",
              "          quickchartButtonEl.classList.remove('colab-df-spinner');\n",
              "          quickchartButtonEl.classList.add('colab-df-quickchart-complete');\n",
              "        }\n",
              "        (() => {\n",
              "          let quickchartButtonEl =\n",
              "            document.querySelector('#df-f6f3ee18-ac2a-4463-9ffc-0c73417dd9d9 button');\n",
              "          quickchartButtonEl.style.display =\n",
              "            google.colab.kernel.accessAllowed ? 'block' : 'none';\n",
              "        })();\n",
              "      </script>\n",
              "    </div>\n",
              "\n",
              "    </div>\n",
              "  </div>\n"
            ],
            "application/vnd.google.colaboratory.intrinsic+json": {
              "type": "dataframe",
              "variable_name": "user_item_matrix",
              "summary": "{\n  \"name\": \"user_item_matrix\",\n  \"rows\": 5,\n  \"fields\": [\n    {\n      \"column\": \"user_id\",\n      \"properties\": {\n        \"dtype\": \"number\",\n        \"std\": 1,\n        \"min\": 1,\n        \"max\": 5,\n        \"num_unique_values\": 5,\n        \"samples\": [\n          2,\n          5,\n          3\n        ],\n        \"semantic_type\": \"\",\n        \"description\": \"\"\n      }\n    },\n    {\n      \"column\": \"Avengers\",\n      \"properties\": {\n        \"dtype\": \"number\",\n        \"std\": 2.23606797749979,\n        \"min\": 0.0,\n        \"max\": 5.0,\n        \"num_unique_values\": 2,\n        \"samples\": [\n          5.0,\n          0.0\n        ],\n        \"semantic_type\": \"\",\n        \"description\": \"\"\n      }\n    },\n    {\n      \"column\": \"Inception\",\n      \"properties\": {\n        \"dtype\": \"number\",\n        \"std\": 2.4083189157584592,\n        \"min\": 0.0,\n        \"max\": 5.0,\n        \"num_unique_values\": 3,\n        \"samples\": [\n          5.0,\n          4.0\n        ],\n        \"semantic_type\": \"\",\n        \"description\": \"\"\n      }\n    },\n    {\n      \"column\": \"Interstellar\",\n      \"properties\": {\n        \"dtype\": \"number\",\n        \"std\": 2.23606797749979,\n        \"min\": 0.0,\n        \"max\": 5.0,\n        \"num_unique_values\": 2,\n        \"samples\": [\n          5.0,\n          0.0\n        ],\n        \"semantic_type\": \"\",\n        \"description\": \"\"\n      }\n    },\n    {\n      \"column\": \"Joker\",\n      \"properties\": {\n        \"dtype\": \"number\",\n        \"std\": 1.788854381999832,\n        \"min\": 0.0,\n        \"max\": 4.0,\n        \"num_unique_values\": 2,\n        \"samples\": [\n          4.0,\n          0.0\n        ],\n        \"semantic_type\": \"\",\n        \"description\": \"\"\n      }\n    },\n    {\n      \"column\": \"Titanic\",\n      \"properties\": {\n        \"dtype\": \"number\",\n        \"std\": 1.9493588689617927,\n        \"min\": 0.0,\n        \"max\": 4.0,\n        \"num_unique_values\": 3,\n        \"samples\": [\n          4.0,\n          0.0\n        ],\n        \"semantic_type\": \"\",\n        \"description\": \"\"\n      }\n    }\n  ]\n}"
            }
          },
          "metadata": {},
          "execution_count": 14
        }
      ]
    },
    {
      "cell_type": "code",
      "source": [
        "from sklearn.metrics.pairwise import cosine_similarity\n",
        "import numpy as np\n",
        "\n",
        "# Compute cosine similarity between users\n",
        "user_similarity = cosine_similarity(user_item_matrix)\n",
        "user_similarity_df = pd.DataFrame(user_similarity, index=user_item_matrix.index, columns=user_item_matrix.index)\n",
        "\n",
        "# Show similarity for a sample user (e.g., user ID 1)\n",
        "user_similarity_df[1].sort_values(ascending=False).head()\n"
      ],
      "metadata": {
        "colab": {
          "base_uri": "https://localhost:8080/",
          "height": 272
        },
        "id": "8JzQQHaBlpC9",
        "outputId": "e1d6b212-c22f-4977-c880-8f78fbc5722c"
      },
      "execution_count": null,
      "outputs": [
        {
          "output_type": "execute_result",
          "data": {
            "text/plain": [
              "user_id\n",
              "1    1.000000\n",
              "5    0.780869\n",
              "2    0.487805\n",
              "3    0.321403\n",
              "4    0.000000\n",
              "Name: 1, dtype: float64"
            ],
            "text/html": [
              "<div>\n",
              "<style scoped>\n",
              "    .dataframe tbody tr th:only-of-type {\n",
              "        vertical-align: middle;\n",
              "    }\n",
              "\n",
              "    .dataframe tbody tr th {\n",
              "        vertical-align: top;\n",
              "    }\n",
              "\n",
              "    .dataframe thead th {\n",
              "        text-align: right;\n",
              "    }\n",
              "</style>\n",
              "<table border=\"1\" class=\"dataframe\">\n",
              "  <thead>\n",
              "    <tr style=\"text-align: right;\">\n",
              "      <th></th>\n",
              "      <th>1</th>\n",
              "    </tr>\n",
              "    <tr>\n",
              "      <th>user_id</th>\n",
              "      <th></th>\n",
              "    </tr>\n",
              "  </thead>\n",
              "  <tbody>\n",
              "    <tr>\n",
              "      <th>1</th>\n",
              "      <td>1.000000</td>\n",
              "    </tr>\n",
              "    <tr>\n",
              "      <th>5</th>\n",
              "      <td>0.780869</td>\n",
              "    </tr>\n",
              "    <tr>\n",
              "      <th>2</th>\n",
              "      <td>0.487805</td>\n",
              "    </tr>\n",
              "    <tr>\n",
              "      <th>3</th>\n",
              "      <td>0.321403</td>\n",
              "    </tr>\n",
              "    <tr>\n",
              "      <th>4</th>\n",
              "      <td>0.000000</td>\n",
              "    </tr>\n",
              "  </tbody>\n",
              "</table>\n",
              "</div><br><label><b>dtype:</b> float64</label>"
            ]
          },
          "metadata": {},
          "execution_count": 15
        }
      ]
    },
    {
      "cell_type": "code",
      "source": [
        "def get_user_recommendations(user_id, user_item_matrix, similarity_df, num_recommendations=5):\n",
        "    # Get scores of similar users\n",
        "    similar_users = similarity_df[user_id].sort_values(ascending=False)[1:]\n",
        "\n",
        "    # Weighted sum of ratings from similar users\n",
        "    weighted_ratings = pd.Series(dtype=float)\n",
        "    for other_user, similarity in similar_users.items():\n",
        "        user_ratings = user_item_matrix.loc[other_user]\n",
        "        weighted_ratings = weighted_ratings.add(user_ratings * similarity, fill_value=0)\n",
        "\n",
        "    # Remove movies already rated by the user\n",
        "    user_seen_movies = user_item_matrix.loc[user_id][user_item_matrix.loc[user_id] > 0].index\n",
        "    weighted_ratings = weighted_ratings.drop(labels=user_seen_movies, errors='ignore')\n",
        "\n",
        "    # Recommend top N movies\n",
        "    recommendations = weighted_ratings.sort_values(ascending=False).head(num_recommendations)\n",
        "    return recommendations\n"
      ],
      "metadata": {
        "id": "oXrEgf-nlrHb"
      },
      "execution_count": null,
      "outputs": []
    },
    {
      "cell_type": "code",
      "source": [
        "recommended_movies = get_user_recommendations(\n",
        "    user_id=1,\n",
        "    user_item_matrix=user_item_matrix,\n",
        "    similarity_df=user_similarity_df,\n",
        "    num_recommendations=5\n",
        ")\n",
        "\n",
        "print(\"Recommended Movies for User 1:\")\n",
        "print(recommended_movies)"
      ],
      "metadata": {
        "colab": {
          "base_uri": "https://localhost:8080/"
        },
        "id": "svdsuMM-l0Wz",
        "outputId": "50536812-c313-4b69-fb36-05a88f9c7c2e"
      },
      "execution_count": null,
      "outputs": [
        {
          "output_type": "stream",
          "name": "stdout",
          "text": [
            "Recommended Movies for User 1:\n",
            "movie_title\n",
            "Avengers        2.439024\n",
            "Interstellar    1.607015\n",
            "Joker           0.000000\n",
            "dtype: float64\n"
          ]
        }
      ]
    },
    {
      "cell_type": "code",
      "source": [
        "!pip install numpy --upgrade\n",
        "!pip install scikit-surprise"
      ],
      "metadata": {
        "colab": {
          "base_uri": "https://localhost:8080/"
        },
        "id": "lJGRDjOll2ZW",
        "outputId": "66e891a0-fa0d-4d05-fa58-ffcef382f64f"
      },
      "execution_count": null,
      "outputs": [
        {
          "output_type": "stream",
          "name": "stdout",
          "text": [
            "Requirement already satisfied: numpy in /usr/local/lib/python3.11/dist-packages (2.0.2)\n",
            "Collecting numpy\n",
            "  Downloading numpy-2.2.5-cp311-cp311-manylinux_2_17_x86_64.manylinux2014_x86_64.whl.metadata (62 kB)\n",
            "\u001b[2K     \u001b[90m━━━━━━━━━━━━━━━━━━━━━━━━━━━━━━━━━━━━━━━━\u001b[0m \u001b[32m62.0/62.0 kB\u001b[0m \u001b[31m1.9 MB/s\u001b[0m eta \u001b[36m0:00:00\u001b[0m\n",
            "\u001b[?25hDownloading numpy-2.2.5-cp311-cp311-manylinux_2_17_x86_64.manylinux2014_x86_64.whl (16.4 MB)\n",
            "\u001b[2K   \u001b[90m━━━━━━━━━━━━━━━━━━━━━━━━━━━━━━━━━━━━━━━━\u001b[0m \u001b[32m16.4/16.4 MB\u001b[0m \u001b[31m69.4 MB/s\u001b[0m eta \u001b[36m0:00:00\u001b[0m\n",
            "\u001b[?25hInstalling collected packages: numpy\n",
            "  Attempting uninstall: numpy\n",
            "    Found existing installation: numpy 2.0.2\n",
            "    Uninstalling numpy-2.0.2:\n",
            "      Successfully uninstalled numpy-2.0.2\n",
            "\u001b[31mERROR: pip's dependency resolver does not currently take into account all the packages that are installed. This behaviour is the source of the following dependency conflicts.\n",
            "numba 0.60.0 requires numpy<2.1,>=1.22, but you have numpy 2.2.5 which is incompatible.\n",
            "tensorflow 2.18.0 requires numpy<2.1.0,>=1.26.0, but you have numpy 2.2.5 which is incompatible.\u001b[0m\u001b[31m\n",
            "\u001b[0mSuccessfully installed numpy-2.2.5\n",
            "Collecting scikit-surprise\n",
            "  Downloading scikit_surprise-1.1.4.tar.gz (154 kB)\n",
            "\u001b[2K     \u001b[90m━━━━━━━━━━━━━━━━━━━━━━━━━━━━━━━━━━━━━━━\u001b[0m \u001b[32m154.4/154.4 kB\u001b[0m \u001b[31m3.2 MB/s\u001b[0m eta \u001b[36m0:00:00\u001b[0m\n",
            "\u001b[?25h  Installing build dependencies ... \u001b[?25l\u001b[?25hdone\n",
            "  Getting requirements to build wheel ... \u001b[?25l\u001b[?25hdone\n",
            "  Preparing metadata (pyproject.toml) ... \u001b[?25l\u001b[?25hdone\n",
            "Requirement already satisfied: joblib>=1.2.0 in /usr/local/lib/python3.11/dist-packages (from scikit-surprise) (1.4.2)\n",
            "Requirement already satisfied: numpy>=1.19.5 in /usr/local/lib/python3.11/dist-packages (from scikit-surprise) (2.2.5)\n",
            "Requirement already satisfied: scipy>=1.6.0 in /usr/local/lib/python3.11/dist-packages (from scikit-surprise) (1.15.2)\n",
            "Building wheels for collected packages: scikit-surprise\n",
            "  Building wheel for scikit-surprise (pyproject.toml) ... \u001b[?25l\u001b[?25hdone\n",
            "  Created wheel for scikit-surprise: filename=scikit_surprise-1.1.4-cp311-cp311-linux_x86_64.whl size=2461558 sha256=6cf6a4cd785cc295fb2394a07a9c1def0c67cb3dc1a7b77d34ddbd4031bd601b\n",
            "  Stored in directory: /root/.cache/pip/wheels/2a/8f/6e/7e2899163e2d85d8266daab4aa1cdabec7a6c56f83c015b5af\n",
            "Successfully built scikit-surprise\n",
            "Installing collected packages: scikit-surprise\n",
            "Successfully installed scikit-surprise-1.1.4\n"
          ]
        }
      ]
    },
    {
      "cell_type": "code",
      "source": [
        "print(df.columns)\n",
        "['userId', 'movieId', 'rating']\n",
        "print(df.columns)"
      ],
      "metadata": {
        "colab": {
          "base_uri": "https://localhost:8080/"
        },
        "id": "xHJLaH1FmcYZ",
        "outputId": "40c56c86-5fbe-421d-bb20-581264b3a799"
      },
      "execution_count": null,
      "outputs": [
        {
          "output_type": "stream",
          "name": "stdout",
          "text": [
            "Index(['user_id', 'movie_id', 'movie_title', 'genre', 'rating'], dtype='object')\n",
            "Index(['user_id', 'movie_id', 'movie_title', 'genre', 'rating'], dtype='object')\n"
          ]
        }
      ]
    },
    {
      "cell_type": "code",
      "source": [
        "import pandas as pd\n",
        "from sklearn.metrics.pairwise import cosine_similarity\n",
        "from sklearn.preprocessing import StandardScaler\n",
        "import numpy as np\n",
        "\n",
        "# Load dataset\n",
        "df = pd.read_csv(\"movie_recommendation_dataset.csv\")\n",
        "\n",
        "# Drop duplicates and missing\n",
        "df.drop_duplicates(inplace=True)\n",
        "# Replace 'userId' and 'movieId' with actual column names if they are different\n",
        "df.dropna(subset=['user_id', 'movie_id', 'rating'], inplace=True)  # Assuming column names are 'user_id', 'movie_id'\n",
        "\n",
        "# Create user-item matrix\n",
        "user_movie_matrix = df.pivot_table(index='user_id', columns='movie_id', values='rating')  # Updated column names\n",
        "\n",
        "# Fill NaNs with 0 (or you can use mean if needed)\n",
        "user_movie_matrix_filled = user_movie_matrix.fillna(0)\n",
        "\n",
        "# Compute cosine similarity between users\n",
        "user_similarity = cosine_similarity(user_movie_matrix_filled)\n",
        "user_similarity_df = pd.DataFrame(user_similarity, index=user_movie_matrix.index, columns=user_movie_matrix.index)\n",
        "\n",
        "print(\"User-User Similarity Matrix:\")\n",
        "print(user_similarity_df.head())"
      ],
      "metadata": {
        "colab": {
          "base_uri": "https://localhost:8080/"
        },
        "id": "1r-PX0mfmodC",
        "outputId": "8fd58e4b-1f19-40eb-ac87-306f17cc0438"
      },
      "execution_count": null,
      "outputs": [
        {
          "output_type": "stream",
          "name": "stdout",
          "text": [
            "User-User Similarity Matrix:\n",
            "user_id         1         2         3    4         5\n",
            "user_id                                             \n",
            "1        1.000000  0.487805  0.321403  0.0  0.780869\n",
            "2        0.487805  1.000000  0.000000  0.0  0.624695\n",
            "3        0.321403  0.000000  1.000000  0.0  0.000000\n",
            "4        0.000000  0.000000  0.000000  1.0  0.000000\n",
            "5        0.780869  0.624695  0.000000  0.0  1.000000\n"
          ]
        }
      ]
    },
    {
      "cell_type": "code",
      "source": [
        "def recommend_movies(user_id, user_movie_matrix, similarity_df, n_recommendations=5):\n",
        "    similar_users = similarity_df[user_id].sort_values(ascending=False)[1:]  # Skip self\n",
        "    weighted_ratings = pd.Series(dtype='float64')\n",
        "\n",
        "    for other_user, similarity_score in similar_users.items():\n",
        "        other_user_ratings = user_movie_matrix.loc[other_user]\n",
        "        weighted_ratings = weighted_ratings.add(other_user_ratings * similarity_score, fill_value=0)\n",
        "\n",
        "    already_watched = user_movie_matrix.loc[user_id][user_movie_matrix.loc[user_id].notna()].index\n",
        "    recommendations = weighted_ratings.drop(labels=already_watched).sort_values(ascending=False).head(n_recommendations)\n",
        "\n",
        "    return recommendations\n",
        "\n",
        "# Example: Recommend for user with ID 1\n",
        "recommendations = recommend_movies(1, user_movie_matrix, user_similarity_df)\n",
        "print(\"Top movie recommendations for user 1:\\n\", recommendations)\n"
      ],
      "metadata": {
        "colab": {
          "base_uri": "https://localhost:8080/"
        },
        "id": "cwQ5dLTknKn5",
        "outputId": "082d9877-8ee2-4001-d5fc-fc7fc6b0102f"
      },
      "execution_count": null,
      "outputs": [
        {
          "output_type": "stream",
          "name": "stdout",
          "text": [
            "Top movie recommendations for user 1:\n",
            " movie_id\n",
            "103    2.439024\n",
            "104    1.607015\n",
            "105    0.000000\n",
            "dtype: float64\n"
          ]
        }
      ]
    },
    {
      "cell_type": "code",
      "source": [
        "for user_id in [1, 2, 3]:  # Change user IDs based on your dataset\n",
        "    print(f\"\\nTop recommendations for User {user_id}:\")\n",
        "    print(recommend_movies(user_id, user_movie_matrix, user_similarity_df))\n"
      ],
      "metadata": {
        "colab": {
          "base_uri": "https://localhost:8080/"
        },
        "id": "zCLEkvzknP2w",
        "outputId": "db2f8855-4ce8-4aa8-a72e-1d44115ffd51"
      },
      "execution_count": null,
      "outputs": [
        {
          "output_type": "stream",
          "name": "stdout",
          "text": [
            "\n",
            "Top recommendations for User 1:\n",
            "movie_id\n",
            "103    2.439024\n",
            "104    1.607015\n",
            "105    0.000000\n",
            "dtype: float64\n",
            "\n",
            "Top recommendations for User 2:\n",
            "movie_id\n",
            "102    1.95122\n",
            "104    0.00000\n",
            "105    0.00000\n",
            "dtype: float64\n",
            "\n",
            "Top recommendations for User 3:\n",
            "movie_id\n",
            "101    1.607015\n",
            "103    0.000000\n",
            "105    0.000000\n",
            "dtype: float64\n"
          ]
        }
      ]
    }
  ]
}